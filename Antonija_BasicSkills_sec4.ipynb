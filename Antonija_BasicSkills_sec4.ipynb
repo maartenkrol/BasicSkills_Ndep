{
 "cells": [
  {
   "cell_type": "markdown",
   "metadata": {},
   "source": [
    "# Nitrogen Concentration and Nitrogen Deposition - part 2\n",
    "\n",
    "## 4 Extending the initial approach\n",
    "\n",
    "In the previous sections, we slowly built a model that helped us to simulate the dry deposition of NH$_3$. For reasons of simplicity, we had to make some assumptions. The benefit of those is that now you have a working model, you understand what it does and you know its limitations.\n",
    "\n",
    "The next step is to take a closer look at some of the assumptions we made. The most relevant assumptions were:\n",
    "\n",
    "* Deposition on a wet canopy does not experience canopy conductance.\n",
    "* A constant $LAI$ in the Jarvis approach.\n",
    "* Stress functions $F_2, F_3$ and $F_4$ in the Jarvis approach all equal 1.\n",
    "* Parameter values may be uncertain.\n",
    "\n",
    "When implementing parameterizations to improve the model, it is of course interesting to see how important the changes are. Therefore, always write down a few important statistics (e.g., annual total deposition flux) or keep a few graphs in a separate document. Keep it practical, do not try to keep track of too many things, a few key numbers or figures is usually enough. Let's now improve our model."
   ]
  },
  {
   "cell_type": "markdown",
   "metadata": {},
   "source": [
    "### 4.1 Wet canopy\n",
    "\n",
    "When the vegetation is wet, for example after precipitation or dew, ammonia will deposit on the wet surfaces outside the stomates. As such, the deposition flux will bypass the canopy resistance. This may be simulated with $r_c = 0$ s m$^{-1}$ when the canopy is wet. The canopy wetness ultimately depends on the balance between precipitation, evaporation and dripping. "
   ]
  },
  {
   "cell_type": "markdown",
   "metadata": {},
   "source": [
    "### Exercise 4.1: Wet canopy analysis\n",
    "\n",
    "In the next box we will calculate the deposition rate. Let's keep it simple and assume that the vegetation is wet for a few hours (e.g., 3 h) after the precipitation. In the following cell-boxes, we will make the calculation by taking into account the wet canopy."
   ]
  },
  {
   "cell_type": "code",
   "execution_count": null,
   "metadata": {},
   "outputs": [],
   "source": [
    "# Load necessary python packages.\n",
    "import sys\n",
    "!{sys.executable} -m pip install cufflinks > /dev/null; # Remove > /dev/null in case of errors.\n",
    "\n",
    "from ipywidgets import interact\n",
    "import numpy as np\n",
    "import matplotlib.pyplot as plt\n",
    "import pandas as pd\n",
    "import cufflinks as cf\n",
    "import plotly.express as px"
   ]
  },
  {
   "cell_type": "code",
   "execution_count": null,
   "metadata": {},
   "outputs": [],
   "source": [
    "# Load the velocity (u; m/s), global radiation (Rg; W/m^2), rain (Rain; mm), rain in the last three hours \n",
    "# (Rain_last3h; mm), leaf area index (LAI; m^2/m^2), aerodynamical, canopy and total resistance \n",
    "# (ra, rc, rt; s/m) and dry nitrogen deposition for three stations (F_NH3_W, F_NH3_V, F_NH3_Z; ug/m^2/s).\n",
    "df_meteo1 = pd.read_csv('testiiiiiiiiing.csv', sep=';', \n",
    "    index_col='date-time', usecols=['date-time', 'u', 'Rg', 'Rain', 'Rain_last3h', 'LAI', 'ra', 'rc', 'rt', \n",
    "    'F_NH3_W', 'F_NH3_V', 'F_NH3_Z'], parse_dates=['date-time'])\n",
    "df_meteo1.columns = ['u', 'Rg', 'Rain', 'Rain_last3h', 'LAI', 'ra', 'rc', 'rt', 'F_NH3_W', 'F_NH3_V', 'F_NH3_Z']\n",
    "\n",
    "# Load the values of nitrogen NH3 concentration for three different stations (Wekerom, Vredepeel and Zegveld). \n",
    "# Data are loaded as hourly values in ug/m3.\n",
    "df_Wekerom = pd.read_csv('BasicSkills_Wekerom.csv', sep=';', \n",
    "    index_col='date-time', usecols=['date-time', 'NH3'], parse_dates=['date-time'])\n",
    "df_Wekerom.columns = ['NH3_W']\n",
    "\n",
    "df_Vredepeel = pd.read_csv('BasicSkills_Vredepeel.csv', sep=';', \n",
    "    index_col='date-time', usecols=['date-time', 'NH3'], parse_dates=['date-time'])\n",
    "df_Vredepeel.columns = ['NH3_V']\n",
    "\n",
    "df_Zegveld = pd.read_csv('BasicSkills_Zegveld.csv', sep=';', \n",
    "    index_col='date-time', usecols=['date-time', 'NH3'], parse_dates=['date-time'])\n",
    "df_Zegveld.columns = ['NH3_Z']\n",
    "\n",
    "# Save the data from Wekerom, Vredepeel and Zegveld in the same data frame.\n",
    "df_result = pd.concat([df_Wekerom, df_Vredepeel, df_Zegveld], axis=1, sort=False)"
   ]
  },
  {
   "cell_type": "markdown",
   "metadata": {},
   "source": [
    "Now we will calculate the total resistance having in mind rain in the last 3 hours and the deposition rate for the three stations (i.e., for Wekerom, Vredepeel and Zegveld)."
   ]
  },
  {
   "cell_type": "code",
   "execution_count": null,
   "metadata": {},
   "outputs": [],
   "source": [
    "# Make a new data frame that includes only the rain in the last 3 hours (Rain_last3h; mm) and \n",
    "# the canopy resistance we calculated in the section 3 (rc; s/m).\n",
    "wet_canopy = df_meteo1[['Rain_last3h', 'rc']]\n",
    "\n",
    "# Find the position where the rain in the last 3 hours is more than 0 mm. \n",
    "# If there is rain in the last 3 hours then set the canopy resistance at those time steps to 0 s/m.\n",
    "wet_canopy['rc'][wet_canopy['Rain_last3h']>0.] = 0.\n",
    "\n",
    "# Set up the sub-laminar boundary layer resistance (rb; s/m).\n",
    "rb = 5.\n",
    "\n",
    "# Calculate new total resistance (rt; s/m) when including rain over the last 3 hours.\n",
    "rt_wet_canopy = df_meteo1['ra'] + rb + wet_canopy['rc']\n",
    "\n",
    "# Add the calculated (new) total resistance into a matrix with the meteorological data.\n",
    "df_meteo1 = pd.concat([df_meteo1, rt_wet_canopy], axis=1, sort=False)\n",
    "df_meteo1.columns = ['u', 'Rg', 'Rain', 'Rain_last3h', 'LAI', 'ra', 'rc', 'rt', \n",
    "                    'F_NH3_W', 'F_NH3_V', 'F_NH3_Z', 'rt_wet_canopy']\n",
    "\n",
    "# Calculate the deposition rate using a gradient resistance model and a new total resistance \n",
    "# for all three stations, i.e., for Wekerom, Vredepeel and Zegveld (F_wet_canopy_NH3_W, F_wet_canopy_NH3_V\n",
    "# and F_wet_canopy_NH3_Z, respectively; ug/m^2/s).\n",
    "F_wet_canopy_NH3_W = df_result['NH3_W']/rt_wet_canopy\n",
    "F_wet_canopy_NH3_W.columns = ['F_wet_canopy_NH3_W']\n",
    "\n",
    "F_wet_canopy_NH3_V = df_result['NH3_V']/rt_wet_canopy\n",
    "F_wet_canopy_NH3_V.columns = ['F_wet_canopy_NH3_V']\n",
    "\n",
    "F_wet_canopy_NH3_Z = df_result['NH3_Z']/rt_wet_canopy\n",
    "F_wet_canopy_NH3_Z.columns = ['F_wet_canopy_NH3_Z']\n",
    "\n",
    "# Add the calculated (new) deposition rate into a matrix with the meteorological data.\n",
    "df_meteo1 = pd.concat([df_meteo1, F_wet_canopy_NH3_W, F_wet_canopy_NH3_V, F_wet_canopy_NH3_Z], axis=1, sort=False)\n",
    "df_meteo1.columns = ['u', 'Rg', 'Rain', 'Rain_last3h', 'LAI', 'ra', 'rc', 'rt', 'F_NH3_W', 'F_NH3_V', 'F_NH3_Z',\n",
    "                   'rt_wet_canopy', 'F_wet_canopy_NH3_W', 'F_wet_canopy_NH3_V', 'F_wet_canopy_NH3_Z']"
   ]
  },
  {
   "cell_type": "code",
   "execution_count": null,
   "metadata": {},
   "outputs": [],
   "source": [
    "# Plot the deposition rate when including rain over the last 3 hours in the calculation of \n",
    "# the total resistance. Make a figure for the three stations\n",
    "# (Wekerom in orange, Vredepeel in blue and Zegveld in green). \n",
    "# Plot Time [years] on x-axis and Deposition rate [um/m^2/s] on y-axis. \n",
    "fig1 = df_meteo1[['F_wet_canopy_NH3_W', 'F_wet_canopy_NH3_V', 'F_wet_canopy_NH3_Z']].iplot(asFigure=True, \n",
    "    subplots=True, shape=(3,1), shared_xaxes=True, fill=True, \n",
    "    layout=dict(yaxis=dict(title=' '), xaxis=dict(title=' ')))\n",
    "fig1['layout']['yaxis2'].update({'title':'Deposition rate [ug/m2/s]'})\n",
    "fig1['layout']['xaxis2'].update({'title':' '})    \n",
    "fig1['layout']['xaxis3'].update({'title':'Time [years]'})\n",
    "fig1['layout']['yaxis1'].update({'range': [0, 20]}) \n",
    "fig1['layout']['yaxis2'].update({'range': [0, 20]}) \n",
    "fig1['layout']['yaxis3'].update({'range': [0, 20]}) \n",
    "fig1.show()"
   ]
  },
  {
   "cell_type": "markdown",
   "metadata": {},
   "source": [
    "### Question 4.1: How does the deposition rate change in the wet canopy between the three stations?"
   ]
  },
  {
   "cell_type": "markdown",
   "metadata": {},
   "source": [
    "#### Your answer is:"
   ]
  },
  {
   "cell_type": "markdown",
   "metadata": {},
   "source": [
    "### Question 4.2: How does the total annual deposition change between the three stations? How does this total deposition change in contrast to the total annual deposition when we have a dry canopy?"
   ]
  },
  {
   "cell_type": "markdown",
   "metadata": {},
   "source": [
    "To answer this question, you need to calculate the total deposition rate over a year for three stations assuming that we have a dry canopy (i.e., when we do not look at the rain over the last three hours) and that we have a wet canopy (i.e., when we look at the rain over the last three hours). We will again set up the python program for you and make the plots. Make your conclusions by analizing the figure and the table below. The result is expressed in g m$^{-2}$yr$^{-1}$."
   ]
  },
  {
   "cell_type": "code",
   "execution_count": null,
   "metadata": {},
   "outputs": [],
   "source": [
    "# Calculate the total annual deposition for the three stations. \n",
    "df_meteo_wet_canopy_deposition_totalannual = 3600./1000000*df_meteo1[['F_NH3_W', 'F_NH3_V', 'F_NH3_Z', 'F_wet_canopy_NH3_W', 'F_wet_canopy_NH3_V', \n",
    "    'F_wet_canopy_NH3_Z']].resample('Y').sum()\n",
    "\n",
    "df_meteo_wet_canopy_deposition_totalannual"
   ]
  },
  {
   "cell_type": "code",
   "execution_count": null,
   "metadata": {},
   "outputs": [],
   "source": [
    "# Plot the result (total annual deposition) for all three stations \n",
    "# (Wekerom in orange, Vredepeel in blue and Zegveld in green). \n",
    "# Results for deposition at dry canopy are given with solid lines \n",
    "# and results for deposition at wet canopy with dotted lines. \n",
    "# Plot Time [years] on x-axis and Deposition [g/m^2/yr] on y-axis. \n",
    "fig2 = df_meteo_wet_canopy_deposition_totalannual.iplot(asFigure=True, \n",
    "    xTitle=\"Time [years]\", yTitle=\"Deposition [g/m2/yr]\", \n",
    "    colors=['orange', 'blue', 'green', 'orange', 'blue', 'green'], \n",
    "    dash=['solid', 'solid', 'solid', 'dot', 'dot', 'dot'], width=2)\n",
    "fig2.show()"
   ]
  },
  {
   "cell_type": "markdown",
   "metadata": {},
   "source": [
    "#### Your answer to question 4.2 is:"
   ]
  },
  {
   "cell_type": "markdown",
   "metadata": {},
   "source": [
    "## 4.2 Variable $LAI$\n",
    "\n",
    "In the calculation for canopy resistance, we started by assuming that $LAI$ is constant. This is not realistic\n",
    "for most vegetation types, except for evergreen vegetation. A relevant consideration is that in the summer season, the $LAI$ and NH$_3$ concentrations are larger than in the winter period. So there is a correlation that would enlarge the error. To account for variable $LAI$, we will implement a seasonal cycle in the $LAI$, using a cosine function as:\n",
    "\n",
    "\\begin{equation}\n",
    "LAI_t = A_{LAI}+A_{LAI}\\cos\\Bigg(\\frac{2\\pi(t-t_{LAI,max})}{365}\\Bigg)\n",
    "\\end{equation}\n",
    "\n",
    "where $A_{LAI}$ (m$^2$m$^{-2}$)is the amplitude, $t$ (day) refers to the day of year and $t_{LAI,max}$ is the time (a day in a year) when the $LAI$ is the largest. Since the cosine part of the function varies between – $A_{LAI}$ and + $A_{LAI}$, we add one time $A_{LAI}$ to force the function to be positive. The $LAI$ thus varies between 0 and 2$A_{LAI}$. The 365 represents an annual cycle."
   ]
  },
  {
   "cell_type": "markdown",
   "metadata": {},
   "source": [
    "### Exercise 4.2: Analysis of Variable LAI\n",
    "\n",
    "In the next several cells we will first, calculate the periodic change in the $LAI$, second, calculate its influence on the deposition rate, and third, plot the dry deposition rate when the new (more realistic) $LAI$ is taken into account. In the first cell-box from the top you need to write the amplitude of your $LAI$ based on your chosen vegetation type (as you did in exercise 3.2)."
   ]
  },
  {
   "cell_type": "code",
   "execution_count": null,
   "metadata": {},
   "outputs": [],
   "source": [
    "# Copy the meteorological data into a new data frame.\n",
    "df_meteo_lai = df_meteo1.copy()\n",
    "\n",
    "# Determine the amplitude of $LAI$ for the cosine function for your chosen vegetation type.\n",
    "A_lai     = 2.\n",
    "t_lai_max = 181.\n",
    "\n",
    "# Calculate the periodic (cosine) change in the $LAI$.\n",
    "df_meteo_lai['LAI'] = A_lai + A_lai*np.cos(2.*np.pi*(df_meteo_lai.index.dayofyear - t_lai_max) / 365.)"
   ]
  },
  {
   "cell_type": "code",
   "execution_count": null,
   "metadata": {},
   "outputs": [],
   "source": [
    "# Let us perform another calculation of the canopy resistance and finaly of the dry deposition rate.\n",
    "# Write the values of your chosen parameters.\n",
    "rcmin = 125. \n",
    "Rgl   = 30.\n",
    "rcmax = 1000.\n",
    "\n",
    "# Calculate f and the stress function for solar radiation F1.\n",
    "f_lai     = 0.55*(df_meteo1['Rg']/Rgl)*(2./df_meteo_lai['LAI'])\n",
    "F1_lai    = ((rcmin/rcmax)+f_lai)/(1+f_lai)\n",
    "\n",
    "# Calculate the canopy resistance.\n",
    "rc_lai    = rcmin/(df_meteo_lai['LAI']*F1_lai)\n",
    "\n",
    "# Calculate new total resistance when including periodic change in LAI.\n",
    "rt_lai    = df_meteo1['ra'] + rb + rc_lai\n",
    "\n",
    "# Calculate the deposition rate using a gradient resistance model and new total resistance \n",
    "# for all three stations, i.e., for Wekerom, Vredepeel and Zegveld.\n",
    "F_lai_NH3_W = df_Wekerom['NH3_W']/rt_lai\n",
    "F_lai_NH3_W.columns = ['F_lai_NH3_W']\n",
    "\n",
    "F_lai_NH3_V = df_result['NH3_V']/rt_lai\n",
    "F_lai_NH3_V.columns = ['F_lai_NH3_V']\n",
    "\n",
    "F_lai_NH3_Z = df_result['NH3_Z']/rt_lai\n",
    "F_lai_NH3_Z.columns = ['F_lai_NH3_Z']\n",
    "\n",
    "# Add the calculated canopy resistance and deposition rate into a matrix with the meteorological data.\n",
    "df_meteo1 = pd.concat([df_meteo1, rc_lai, rt_lai, F_lai_NH3_W, F_lai_NH3_V, F_lai_NH3_Z], axis=1, sort=False)\n",
    "df_meteo1.columns = ['u', 'Rg', 'Rain', 'Rain_last3h', 'LAI', 'ra', 'rc', 'rt', 'F_NH3_W', 'F_NH3_V', 'F_NH3_Z',\n",
    "    'rt_wet_canopy', 'F_wet_canopy_NH3_W', 'F_wet_canopy_NH3_V', 'F_wet_canopy_NH3_Z', 'rc_lai', 'rt_lai',\n",
    "    'F_lai_NH3_W', 'F_lai_NH3_V', 'F_lai_NH3_Z']"
   ]
  },
  {
   "cell_type": "code",
   "execution_count": null,
   "metadata": {},
   "outputs": [],
   "source": [
    "# Plot the deposition rate when including periodic change in LAI in the calculation of \n",
    "# the total resistance. Make a figure for the three stations\n",
    "# (Wekerom in orange, Vredepeel in blue and Zegveld in green). \n",
    "# Plot Time [years] on x-axis and Deposition rate [ug/m^2/s] on y-axis. \n",
    "fig3 = df_meteo1[['F_lai_NH3_W', 'F_lai_NH3_V', 'F_lai_NH3_Z']].iplot(asFigure=True, \n",
    "    subplots=True, shape=(3,1), shared_xaxes=True, fill=True, \n",
    "    layout=dict(yaxis=dict(title=' '), xaxis=dict(title=' ')))\n",
    "fig3['layout']['yaxis2'].update({'title':'Deposition rate [ug/m2/s]'})\n",
    "fig3['layout']['xaxis2'].update({'title':' '})    \n",
    "fig3['layout']['xaxis3'].update({'title':'Time [years]'})   \n",
    "fig3['layout']['yaxis1'].update({'range': [0, 5]}) \n",
    "fig3['layout']['yaxis2'].update({'range': [0, 5]}) \n",
    "fig3['layout']['yaxis3'].update({'range': [0, 5]}) \n",
    "fig3.show()"
   ]
  },
  {
   "cell_type": "markdown",
   "metadata": {},
   "source": [
    "### Question 4.2.1: Does the vegetation get the NH$_3$ when it needs?"
   ]
  },
  {
   "cell_type": "markdown",
   "metadata": {},
   "source": [
    "#### Your answer is:"
   ]
  },
  {
   "cell_type": "markdown",
   "metadata": {},
   "source": [
    "### Question 4.2.2: How much does a variable $LAI$ change the total tearly deposition?"
   ]
  },
  {
   "cell_type": "markdown",
   "metadata": {},
   "source": [
    "To answer this question, you need to calculate the total deposition rate over a year and  for three stations assuming that the $LAI$ is constant and that it changes as a cosine (periodic) function. Do you think you can make this calculation yourself? Let's try. What you need is look at the code above, select the correct variables and run your cell-box using **Shift+Enter**."
   ]
  },
  {
   "cell_type": "code",
   "execution_count": null,
   "metadata": {},
   "outputs": [],
   "source": [
    "# Make the calculation in this cell."
   ]
  },
  {
   "cell_type": "markdown",
   "metadata": {},
   "source": [
    "#### Your answer is:"
   ]
  },
  {
   "cell_type": "markdown",
   "metadata": {},
   "source": [
    "### Question 4.2.3: How much does a variable $LAI$ change the seasonal deposition rate?"
   ]
  },
  {
   "cell_type": "raw",
   "metadata": {},
   "source": [
    "In the cell below, we will one more time show you how to calculate the seasonal variability of a variable (in this case this is the deposition rate). In the last part of this Basic Skills practicum, we will assume that you can do this calculation your self. This should not be difficult if you follow step-by-step our calculations."
   ]
  },
  {
   "cell_type": "code",
   "execution_count": null,
   "metadata": {},
   "outputs": [],
   "source": [
    "# Calculate the seasonal variability deposition rate for the three stations. \n",
    "# Firts, select variables you want to calculate the seasonal cycle for from the matrix that contains \n",
    "# all meteorological data.\n",
    "df_meteo_lai_deposition_seasonal = df_meteo1[['F_NH3_W', 'F_NH3_V', 'F_NH3_Z', 'F_lai_NH3_W', 'F_lai_NH3_V', 'F_lai_NH3_Z']]\n",
    "\n",
    "# Calculate the seasonal cycle.\n",
    "df_meteo_lai_deposition_seasonal = df_meteo_lai_deposition_seasonal.groupby( \n",
    "    2*((df_meteo_lai_deposition_seasonal.index.week-1)//2 + 1)).mean()"
   ]
  },
  {
   "cell_type": "code",
   "execution_count": null,
   "metadata": {},
   "outputs": [],
   "source": [
    "# Plot the result (multi-year seasonal variability) for all three stations \n",
    "# (Wekerom in orange, Vredepeel in blue and Zegveld in green). \n",
    "# Results for deposition rate with constant LAI are given with solid lines \n",
    "# and results for deposition rate with periodic LAI with dotted lines. \n",
    "# Plot Time [weeks] on x-axis and Deposition rate [ug/m^2/s] on y-axis. \n",
    "fig4 = df_meteo_lai_deposition_seasonal.iplot(asFigure=True, xTitle=\"Time [weeks]\",\n",
    "    yTitle=\"Deposition rate [ug/m2/s]\", colors=['orange', 'blue', 'green', 'orange', 'blue', 'green'], \n",
    "    dash=['solid', 'solid', 'solid', 'dot', 'dot', 'dot'], width=2)\n",
    "fig4.show()"
   ]
  },
  {
   "cell_type": "markdown",
   "metadata": {},
   "source": [
    "#### Your answer to question 4.2.3 is:"
   ]
  },
  {
   "cell_type": "markdown",
   "metadata": {},
   "source": [
    "## 4.3 Variable stress functions $F_2$, $F_3$ and $F_4$\n",
    "\n",
    "In exercises 3.2 and 3.4, we worked with a single stress function $F_1$. This stress function describes the sensitivity to solar radiation, and thus implements a diurnal cycle in the calculation for the canopy resistance (something that you should have noticed on the figure). The stress functions $F_2$, $F_3$ and $F_4$ describe the sensitivity of the canopy resistance to vapor pressure deficit, temperature and soil moisture. These stressors may act significantly to increase the canopy resistance in the summer period and particularly during droughts and heat waves.\n",
    "\n",
    "### Exercise 4.3: Analysis of the Influence of Variable Stress Functions on the Deposition Rate\n",
    "To see the influence of the three stress functions are calculated in the cell below along with their influence on the canopy resistance and the deposition rate."
   ]
  },
  {
   "cell_type": "code",
   "execution_count": null,
   "metadata": {},
   "outputs": [],
   "source": [
    "# Load the additional meteorological data. \n",
    "# Load the air temperature, humidity, and the soil water content at 65, 125, 250 and 500 mm\n",
    "df_meteo_add = pd.read_csv('BasicSkills_meteo2.csv', sep=';', \n",
    "    index_col='date-time', usecols=['date-time', 'Air_temp', 'Humidity', 'Water_cont_65', \n",
    "    'Water_cont_125', 'Water_cont_250', 'Water_cont_500'], parse_dates=['date-time'])\n",
    "df_meteo_add.columns = ['Air_temp', 'Humidity', 'Water_cont_65', \n",
    "    'Water_cont_125', 'Water_cont_250', 'Water_cont_500']\n",
    "\n",
    "rcmin = 125. \n",
    "Rgl   = 30.\n",
    "LAI   = 6.4\n",
    "rcmax = 1000.\n",
    "\n",
    "# Calculate f and the stress function for solar radiation F1.\n",
    "f_stress     = 0.55*(df_meteo1['Rg']/Rgl)*(2./LAI)\n",
    "F1_stress    = ((rcmin/rcmax)+f_stress)/(1+f_stress)\n",
    "\n",
    "# Calculate the stress function for vapor pressure deficit F2. \n",
    "# First define some constants; gass constant for dry air (Rd; J/kgK), gass constant for water vapor (Rv; J/kgK),\n",
    "# and pressure (p; Pa), and parameter connected with water vapour deficit (hs; -). \n",
    "# Write the value of the parameter hs that corresponds to your chosen vegetation type.\n",
    "hs   = 47.35\n",
    "Rd   = 287.\n",
    "Rv   = 462.\n",
    "p    = 101300.\n",
    "\n",
    "# Calculate saturation (qs; g/kg) and actual (qa; g/kg) water vapor mixing ratios.\n",
    "qs = Rd/Rv*(0.6107*10**(7.5*(df_meteo_add['Air_temp'])/(237.3+df_meteo_add['Air_temp'])))/p\n",
    "\n",
    "#df_meteo_add.loc[df_meteo_add['Humidity']  > 500,'Humidity']  = np.nan\n",
    "qa = df_meteo_add['Humidity']*qs\n",
    "\n",
    "# Calculate the stress function for temperature F2.\n",
    "F2 = 1./(1.+hs*(qs-qa))\n",
    "\n",
    "# Calculate the stress function for soil moisture F3. \n",
    "# First define the optimal air temperature for photosynthesis (Tref; K).  \n",
    "Tref = 25.\n",
    "\n",
    "# Calculate F3. \n",
    "F3 = 1.-0.00168*(Tref-df_meteo_add['Air_temp'])**2.\n",
    "\n",
    "# Calculate F4. First define some parameters. Parameters d1, ..., d4 and dtot are defined for you.\n",
    "# Look up theta_wilt and theta_ref in the Table 2 of Kumar et al. (2011) paper.\n",
    "theta_wilt = 0.047\n",
    "theta_ref  = 0.434\n",
    "d1         = 0.095\n",
    "d2         = 0.093\n",
    "d3         = 0.188\n",
    "d4         = 0.2\n",
    "dtot       = 0.575\n",
    "\n",
    "# Calculate denominator and F4.\n",
    "denom = (theta_ref - theta_wilt)*dtot\n",
    "\n",
    "F4 = ((df_meteo_add['Water_cont_65']-theta_wilt)*d1+(df_meteo_add['Water_cont_125']-theta_wilt)*d2+\n",
    "    (df_meteo_add['Water_cont_250']-theta_wilt)*d3+(df_meteo_add['Water_cont_500']-theta_wilt)*d4)/denom"
   ]
  },
  {
   "cell_type": "code",
   "execution_count": null,
   "metadata": {},
   "outputs": [],
   "source": [
    "# Calculate the canopy resistance.\n",
    "rc_stress    = df_meteo1['rc']/(F1_stress*F2*F3*F4)\n",
    "\n",
    "# Calculate new total resistance (rt_stress; s/m) when including three stress functions (F2, F3 and F4).\n",
    "rt_stress    = df_meteo1['ra'] + rb + rc_stress\n",
    "\n",
    "# Calculate the deposition rate using a gradient resistance model and new total resistance \n",
    "# for all three stations, i.e., for Wekerom, Vredepeel and Zegveld.\n",
    "F_stress_NH3_W = df_result['NH3_W']/rt_stress\n",
    "F_stress_NH3_W.columns = ['F_stress_NH3_W']\n",
    "\n",
    "F_stress_NH3_V = df_result['NH3_V']/rt_stress\n",
    "F_stress_NH3_V.columns = ['F_stress_NH3_V']\n",
    "\n",
    "F_stress_NH3_Z = df_result['NH3_Z']/rt_stress\n",
    "F_stress_NH3_Z.columns = ['F_stress_NH3_Z']\n",
    "\n",
    "# Add the calculated canopy resistance and deposition rate into a matrix with the meteorological data.\n",
    "df_meteo1 = pd.concat([df_meteo1, rc_stress, rt_stress, F_stress_NH3_W, F_stress_NH3_V, F_stress_NH3_Z], axis=1, sort=False)\n",
    "df_meteo1.columns = ['u', 'Rg', 'Rain', 'Rain_last3h', 'LAI', 'ra', 'rc', 'rt', 'F_NH3_W', 'F_NH3_V', 'F_NH3_Z',\n",
    "    'rt_wet_canopy', 'F_wet_canopy_NH3_W', 'F_wet_canopy_NH3_V', 'F_wet_canopy_NH3_Z', 'rc_lai', 'rt_lai',\n",
    "    'F_lai_NH3_W', 'F_lai_NH3_V', 'F_lai_NH3_Z', 'rc_stress', 'rt_stress', \n",
    "    'F_stress_NH3_W', 'F_stress_NH3_V', 'F_stress_NH3_Z']\n"
   ]
  },
  {
   "cell_type": "code",
   "execution_count": null,
   "metadata": {},
   "outputs": [],
   "source": [
    "# Plot the deposition rate when including the stress functions in the calculation of \n",
    "# the canopy resistance. Make a figure for the three stations\n",
    "# (Wekerom in orange, Vredepeel in blue and Zegveld in green). \n",
    "# Plot Time [years] on x-axis and Deposition rate [um/m^2/s] on y-axis. \n",
    "fig5 = df_meteo1[['F_stress_NH3_W', 'F_stress_NH3_V', 'F_stress_NH3_Z']].iplot(asFigure=True, \n",
    "    subplots=True, shape=(3,1), shared_xaxes=True, fill=True, \n",
    "    layout=dict(yaxis=dict(title=' '), xaxis=dict(title=' ')))\n",
    "fig5['layout']['yaxis2'].update({'title':'Deposition rate [ug/m2/s]'})\n",
    "fig5['layout']['xaxis2'].update({'title':' '})    \n",
    "fig5['layout']['xaxis3'].update({'title':'Time [years]'})  \n",
    "fig5['layout']['yaxis1'].update({'range': [0, 8]}) \n",
    "fig5['layout']['yaxis2'].update({'range': [0, 8]}) \n",
    "fig5['layout']['yaxis3'].update({'range': [0, 8]}) \n",
    "fig5.show()"
   ]
  },
  {
   "cell_type": "markdown",
   "metadata": {},
   "source": [
    "### Question 4.3.1: How does the deposition rate change in comparisson to the dry deposition rate analyzed in the section 3.4?"
   ]
  },
  {
   "cell_type": "markdown",
   "metadata": {},
   "source": [
    "#### Your answer is:"
   ]
  },
  {
   "cell_type": "markdown",
   "metadata": {},
   "source": [
    "### Exercise 4.4: Variability in NH$_3$ deposition rate\n",
    "\n",
    "In this exercise, you will analyze the variability in NH$_3$ deposition rate. You will look at the variability on a. inter-annual, b. seasonal and c. daily scales. You will compare the results obtained at the three stations and results between the simple model (that we built in the first part of basic skills) and models we built here. Below each of the figures you will again find some questions you can answer by analyzing your figures.\n",
    "\n",
    "Note that here we only briefly help you with your model. Most of the calculation will be set up by you. "
   ]
  },
  {
   "cell_type": "markdown",
   "metadata": {},
   "source": [
    "### Exercise 4.4a: Inter-annual variability\n",
    "\n",
    "In this exercise, you will look at the variability in the deposition rate on inter-annual scale. In the cell-box below follow our instructions written in the comments (remember that comments start with the sign #), and finish all python commands."
   ]
  },
  {
   "cell_type": "code",
   "execution_count": null,
   "metadata": {},
   "outputs": [],
   "source": [
    "# Let's first select the data for analysis. Data will be written in a new dataframe. \n",
    "# This command is written for you. \n",
    "# You can use '#' sign to exclude the data you do not want to analyse. That way you can slowly build up your analysis\n",
    "# from the data including only F1 (first row), data including wet canopy (second row), data including \n",
    "# variable LAI (thirs row) and data including all stress functions (last row).\n",
    "df_meteo1_interannual = df_meteo1[[\n",
    "    'F_NH3_W', 'F_NH3_V', 'F_NH3_Z',\n",
    "#    'F_wet_canopy_NH3_W', 'F_wet_canopy_NH3_V', 'F_wet_canopy_NH3_Z', \n",
    "#    'F_lai_NH3_W', 'F_lai_NH3_V', 'F_lai_NH3_Z', \n",
    "    'F_stress_NH3_W', 'F_stress_NH3_V', 'F_stress_NH3_Z']]\n",
    "\n",
    "# Calculate the inter-annual variability for the three stations. \n",
    "# Inter-annual variability is calculated as a mean value over each year of our time-series.\n",
    "# To make a calculation have a look at the Exercise 2.2a from Basic Skills, part 1.\n",
    "df_meteo1_mean_interannual = \n",
    "\n",
    "# Let's make a plot.\n",
    "# Plot the result (inter-annual variability) for the three stations \n",
    "# (Wekerom in orange, Vredepeel in blue and Zegveld in green). \n",
    "# Plot Time [years] on x-axis and Deposition rate [um/m^2/s] on y-axis.  \n",
    "fig6 = df_meteo1_mean_interannual.iplot(asFigure=True, xTitle=\"Time [years]\", yTitle=\"Deposition rate [um/m3/s]\", \n",
    "    colors=['orange', 'blue', 'green', 'orange', 'blue', 'green'], \n",
    "    dash=['solid', 'solid', 'solid', 'dot', 'dot', 'dot'], width=2)\n",
    "fig6.update_xaxes(tickvals=[2014, 2015, 2016, 2017, 2018, 2019])\n",
    "fig6.show()"
   ]
  },
  {
   "cell_type": "markdown",
   "metadata": {},
   "source": [
    "### Question 4.4a: How does the deposition vary on inter-annual scale when we transition from a simple to a realistic canopy resistance calculation?"
   ]
  },
  {
   "cell_type": "markdown",
   "metadata": {},
   "source": [
    "#### Your answer is:"
   ]
  },
  {
   "cell_type": "markdown",
   "metadata": {},
   "source": [
    "### Exercise 4.4b: Multi-year seasonal variability\n",
    "\n",
    "In this exercise, you will look at the variability in the deposition rate on seasonal scale. In the cell-box below again follow our instructions written in the comments (remember that comments start with the sign #), and finish all python commands. Note that we calculate the multi-year seasonal variability using a weekly calculation."
   ]
  },
  {
   "cell_type": "code",
   "execution_count": null,
   "metadata": {
    "scrolled": false
   },
   "outputs": [],
   "source": [
    "# Let's first select the data for analysis. Data will be written in a new dataframe. \n",
    "# This command is written for you. \n",
    "# You can use '#' sign to exclude the data you do not want to analyse. That way you can slowly build up your analysis\n",
    "# from the data including only F1 (first row), data including wet canopy (second row), data including \n",
    "# variable LAI (thirs row) and data including all stress functions (last row).\n",
    "df_meteo1_seasonal = df_meteo1[[\n",
    "    'F_NH3_W', 'F_NH3_V', 'F_NH3_Z',\n",
    "#    'F_wet_canopy_NH3_W', 'F_wet_canopy_NH3_V', 'F_wet_canopy_NH3_Z', \n",
    "#    'F_lai_NH3_W', 'F_lai_NH3_V', 'F_lai_NH3_Z', \n",
    "    'F_stress_NH3_W', 'F_stress_NH3_V', 'F_stress_NH3_Z']]\n",
    "\n",
    "# Calculate the multi-year seasonal variability for all three stations. \n",
    "# Multi-year seasonal variability is calculated as a mean of all e.g., first weeks of the year.\n",
    "df_meteo1_mean_seasonal = \n",
    "\n",
    "# Let's make a plot.\n",
    "# Plot the result (inter-annual variability) for the three stations \n",
    "# (Wekerom in orange, Vredepeel in blue and Zegveld in green). \n",
    "# Plot Time [years] on x-axis and Deposition rate [um/m^2/s] on y-axis.  \n",
    "fig7 = df_meteo1_mean_seasonal.iplot(asFigure=True, xTitle=\"Time [weeks]\", yTitle=\"Deposition rate [um/m3/s]\", \n",
    "    colors=['orange', 'blue', 'green', 'orange', 'blue', 'green'], \n",
    "    dash=['solid', 'solid', 'solid', 'dot', 'dot', 'dot'], width=2)\n",
    "fig7.show()"
   ]
  },
  {
   "cell_type": "markdown",
   "metadata": {},
   "source": [
    "### Question 4.4b: How does the deposition vary on a seasonal scale when we transition from a simple to a realistic canopy resistance calculation?"
   ]
  },
  {
   "cell_type": "markdown",
   "metadata": {},
   "source": [
    "#### Your answer is:"
   ]
  },
  {
   "cell_type": "markdown",
   "metadata": {},
   "source": [
    "### Exercise 4.4c: Diurnal variability\n",
    "\n",
    "In this exercise, you will look at the variability in the deposition rate on seasonal scale. Do you think you are able to set the python code for yourself? Try, if you encounter a problem, you can always ask for help! "
   ]
  },
  {
   "cell_type": "markdown",
   "metadata": {},
   "source": [
    "### Question 4.4c: How does the deposition vary daily when we transition from a simple to a realistic canopy resistance calculation?"
   ]
  },
  {
   "cell_type": "markdown",
   "metadata": {},
   "source": [
    "#### Your answer is:"
   ]
  },
  {
   "cell_type": "markdown",
   "metadata": {},
   "source": [
    "## 4.4 Parameter uncertainty and missing processes\n",
    "\n",
    "Python allows us to calculate the resistance and deposition rates with many decimals, suggesting high accuracy. However, the real accuracy is far less determined by the numerical accuracy than by the accuracy of the (meteorological and air quality) input data, the choice of parameter values and the processes included in the model description. In the discussion section of your PGO report, you will have to consider sources of uncertainty. To prevent you from writing vague sentences like ‘the deposition fluxes are uncertain, because we did not know the exact parameter values’, do some sensitivity studies, where you vary the value of parameters with -10% and +10% or where you exclude/include some processes (e.g., deposition on wet canopy). Note how much the deposition flux changes. If this is less than 10%, the model may not be very sensitive to that parameter or process. But there will also be parameters or processes the model is more than proportionally sensitive to."
   ]
  },
  {
   "cell_type": "code",
   "execution_count": null,
   "metadata": {},
   "outputs": [],
   "source": [
    "### DO NOT TOUCH!!! WORK IN PROGRESS!!!\n",
    "oink = df_meteo.copy()\n",
    "\n",
    "@interact(a=(0., 3.))\n",
    "def plot_T(a):\n",
    "    oink['F_NH3_V_pert'] = a * oink['F_NH3_V']\n",
    "    fig_oink = oink[['F_NH3_V','F_NH3_V_pert']].iplot(asFigure=True)\n",
    "    fig_oink.show()"
   ]
  }
 ],
 "metadata": {
  "kernelspec": {
   "display_name": "Python 3",
   "language": "python",
   "name": "python3"
  },
  "language_info": {
   "codemirror_mode": {
    "name": "ipython",
    "version": 3
   },
   "file_extension": ".py",
   "mimetype": "text/x-python",
   "name": "python",
   "nbconvert_exporter": "python",
   "pygments_lexer": "ipython3",
   "version": "3.7.3"
  }
 },
 "nbformat": 4,
 "nbformat_minor": 4
}
