{
 "cells": [
  {
   "cell_type": "markdown",
   "metadata": {},
   "source": [
    "# Nitrogen Concentration and Nitrogen Deposition\n",
    "## 1 Introduction\n",
    "\n",
    "The Basic Skills - Air Quality focus on atmospheric nitrogen concentration and nitrogen deposition. \"Nitrogen\" here refers to reactive nitrogen (N$_r$) in the form of nitrogen oxides or ammonia. The atmospheric concentration of nitrogen containing species depends on emission rates and atmospheric dispersion as a function of boundary layer mixing. Deposition of N-species is an important process that determines nutrient variability in agricultural and natural ecosystems. Nutrient availability depends on precipitation rates, infiltration, seepage and soil type, and in turn affects vegetation growth rates and water quality. Figure 1 shows the calculated deposition of N$_r$ over land in the Netherlands in 2018. The figure also shows positions of three stations for which we will calculate the nitrogen deposition in this practical, and the position of Wageningen Veenkampen station, where the meteorological station is situated.\n",
    "\n",
    "<br>\n",
    "<div align=center>\n",
    "<figure>\n",
    "  <img src=\"nitrogen_depo.png\", width=\"500\" height=\"400\">\n",
    "  <figcaption> <i>Figure 1: Map of the calculated deposition of reactive nitrogen in the Netherlands in 2018. </i></figcaption>\n",
    "</figure>\n",
    "</div>\n",
    "\n",
    "Section 2 (Atmospheric NH$_3$ concentrations) of this practical, is based on the Introduction Atmosphere course (see chapter 1 \"The Earth and its atmosphere\", and chapter 8 \"The atmospheric boundary layer\"), while section 3 (Dry deposition of NH$_3$) follows up chapter 18 (\"Exchange of nitrogen species at the Earth's surface\") of the same course.\n",
    "\n",
    "In this tutorial, you will explore the variability of nitrogen concentrations. You will also develop a model to simulate the dry deposition rate of NH$_3$ on vegetated surfaces. You will need this model later on to successfully execute the Integration Skills and in the PGO part. \n",
    "\n",
    "The objectives of the following exercises are:\n",
    "\n",
    "* To explain variations in atmospheric NH$_3$ concentrations (Section 2 of the practical).\n",
    "* To construct a model to simulate dry deposition of NH$_3$ (Section 3 of the practical).\n",
    "* To explain variations in NH$_3$ dry deposition rates (Section 3 of the practical).\n",
    "* To use the model for sensitivity studies and uncertainty analyses (Section 4 of the practical).\n",
    "\n",
    "You will use all the results you obtain in this practical later in the course. Therefore, do not forget to write your answers at the intended locations and save your results. Also, if necessary, make notes about the things you learn.  \n",
    "\n",
    "Note that the \"jupyter notebook\" practical consists of so-called code cells and markdowns cells. Markdown cells are used to write text, pose questions and for you to write your answers. Code cells are used to write parts of a numerical code or program. In each code cell we write a necessary part of a code and we write some comments that start with the mark \"#\". In the comment, we explain (again) what we calculate or plot. To obtain a result of a calculation i.e., a figure (note that most of the calculations we have already done for you), you will need to run a cell. You can do that by clicking on a cell and pressing simultaneously **Shift-Enter**. Only then you will be able to see the result of the calculation and only then will the figures appear on your screen. Also note that we have created a [Brightspace](https://brightspace.wur.nl) discussion forum for you. There, you can pose questions to your fellow students, if you do not want to directly ask your teachers, and you can discuss your results. Happy notebooking! "
   ]
  },
  {
   "cell_type": "markdown",
   "metadata": {},
   "source": [
    "## 2 Atmospheric NH$_3$ concentrations\n",
    "\n",
    "In this Section 2 of your practical, you will analyze the atmospheric NH$_3$ concentrations provided by the National Monitoring network Air Quality (Landelijk Meetnet Luchtkwaliteit, LML). The concentrations are given as hourly values at the Wekerom, Vredepeel and Zegveld stations."
   ]
  },
  {
   "cell_type": "markdown",
   "metadata": {},
   "source": [
    "### Exercise 2.1: Data exploration\n",
    "\n",
    "In this exercise, you will analyze the variability of NH$_3$ concentrations at three different stations. We uploaded the data for you and provide the code to make initial figures (note: sometimes this may take a while to execute)\n",
    ". Below the figures, you will find a question you can answer by analyzing the figures. To write your answer just double-click on the box below the question and write your answer. In the menu above, you can save your answer (e.g. *File > Save as*) and you can run your markdown cell in order to appear as text by pressing simultaneously **Shift+Enter**. Note that you have to execute the cells below one-by-one."
   ]
  },
  {
   "cell_type": "code",
   "execution_count": null,
   "metadata": {
    "code_folding": [],
    "scrolled": false
   },
   "outputs": [],
   "source": [
    "# Load necessary python packages.\n",
    "import sys\n",
    "!{sys.executable} -m pip install cufflinks > /dev/null; # Remove > /dev/null in case of errors.\n",
    "\n",
    "from ipywidgets import interact\n",
    "import numpy as np\n",
    "import matplotlib.pyplot as plt\n",
    "import pandas as pd\n",
    "import cufflinks as cf\n",
    "import plotly.express as px"
   ]
  },
  {
   "cell_type": "code",
   "execution_count": null,
   "metadata": {
    "code_folding": []
   },
   "outputs": [],
   "source": [
    "# Load the values of nitrogen NH3 concentration for three different stations (Wekerom, Vredepeel and Zegveld). \n",
    "# Data are loaded as hourly values in ug/m3.\n",
    "df_Wekerom = pd.read_csv('BasicSkills_Wekerom.csv', sep=';', \n",
    "    index_col='date-time', usecols=['date-time', 'NH3'], parse_dates=['date-time'])\n",
    "df_Wekerom.columns = ['NH3_W']\n",
    "\n",
    "df_Vredepeel = pd.read_csv('BasicSkills_Vredepeel.csv', sep=';', \n",
    "    index_col='date-time', usecols=['date-time', 'NH3'], parse_dates=['date-time'])\n",
    "df_Vredepeel.columns = ['NH3_V']\n",
    "\n",
    "df_Zegveld = pd.read_csv('BasicSkills_Zegveld.csv', sep=';', \n",
    "    index_col='date-time', usecols=['date-time', 'NH3'], parse_dates=['date-time'])\n",
    "df_Zegveld.columns = ['NH3_Z']\n",
    "\n",
    "# Save the data from Wekerom, Vredepeel and Zegveld in the same data frame.\n",
    "df_result = pd.concat([df_Wekerom, df_Vredepeel, df_Zegveld], axis=1, sort=False)"
   ]
  },
  {
   "cell_type": "markdown",
   "metadata": {},
   "source": [
    "In the box above we loaded the data for nitrogen conentration. Now let's plot the results for three stations. Note that you can zoom in the specific parts of the figure by using your cursor or the controls on top of the figure."
   ]
  },
  {
   "cell_type": "code",
   "execution_count": null,
   "metadata": {
    "code_folding": []
   },
   "outputs": [],
   "source": [
    "# Plot NH3 concentrations for the three stations (Wekerom in orange, Vredepeel in blue and Zegveld in green). \n",
    "# Plot Time [years] on x-axis and Concentration [um/m^3] on y-axis. \n",
    "fig1 = df_result.iplot(asFigure=True, subplots=True, shape=(3,1), shared_xaxes=True, fill=True,\n",
    "    layout=dict(yaxis=dict(title=' '), xaxis=dict(title=' ')), width=2)\n",
    "fig1['layout']['yaxis2'].update({'title':'Concentration [ug/m3]'})\n",
    "fig1['layout']['xaxis2'].update({'title':' '})    \n",
    "fig1['layout']['xaxis3'].update({'title':'Time [years]'}) \n",
    "fig1['layout']['yaxis1'].update({'range': [0, 450]}) \n",
    "fig1['layout']['yaxis2'].update({'range': [0, 450]}) \n",
    "fig1['layout']['yaxis3'].update({'range': [0, 450]}) \n",
    "fig1.show()"
   ]
  },
  {
   "cell_type": "markdown",
   "metadata": {},
   "source": [
    "### Question 2.1.1: On the figure above you see hourly NH$_3$ concentrations over 5 years for 3 stations. What do you observe with respect to the differences in mean concentration between the stations? Can you explain the differences based on the location of the stations? Can you observe the variability in the concentration relative to the mean at each station? If so, what do you think causes this?"
   ]
  },
  {
   "cell_type": "markdown",
   "metadata": {},
   "source": [
    "#### Your answer is: "
   ]
  },
  {
   "cell_type": "markdown",
   "metadata": {},
   "source": [
    "### Exercise 2.2: Variability in NH$_3$ concentrations\n",
    "\n",
    "In this exercise, you will analyze the variability in NH$_3$ concentrations. You will look at the variability on a. inter-annual, b. seasonal and c. daily scales. You will compare the results obtained at the three stations. Below each of the figures you will again find some questions you can answer by analyzing your figures."
   ]
  },
  {
   "cell_type": "markdown",
   "metadata": {},
   "source": [
    "### Exercise 2.2a: Inter-annual variability"
   ]
  },
  {
   "cell_type": "code",
   "execution_count": null,
   "metadata": {},
   "outputs": [],
   "source": [
    "# Calculate the inter-annual variability for the three stations. \n",
    "# Inter-annual variability is calculated as a mean value over each year of our time-series.\n",
    "df_mean_interannual = df_result.resample('Y').mean()\n",
    "\n",
    "# Print the result of the calculated inter-annual variability.\n",
    "print(\"concentration units are in ug/m3\")\n",
    "df_mean_interannual\n"
   ]
  },
  {
   "cell_type": "markdown",
   "metadata": {},
   "source": [
    "As you can see in the table above, the result for inter-annual variability is expressed as a mean value obtained for each year separately. As you can also see the mean value over 2013 is written as a result on December 31, 2013. This is why the x-axis of the figure below might on a first glance look confusing to you. "
   ]
  },
  {
   "cell_type": "code",
   "execution_count": null,
   "metadata": {},
   "outputs": [],
   "source": [
    "# Plot the result (inter-annual variability) for the three stations \n",
    "# (Wekerom in orange, Vredepeel in blue and Zegveld in green). \n",
    "# Plot Time [years] on x-axis and Concentration [um/m^3] on y-axis.  \n",
    "fig2 = df_mean_interannual.iplot(asFigure=True, xTitle=\"Time [years]\", yTitle=\"Concentration [um/m3]\", width=2)\n",
    "fig2.update_xaxes(tickvals=[2014, 2015, 2016, 2017, 2018, 2019])\n",
    "fig2.show()"
   ]
  },
  {
   "cell_type": "markdown",
   "metadata": {},
   "source": [
    "### Question 2.2a.1: Can you explain the meaning of inter-annual variability in NH$_3$ concentration? How do the inter-annual variations differ at the three given stations? What does this mean for the NH$_3$-issues in the Netherlands?"
   ]
  },
  {
   "cell_type": "markdown",
   "metadata": {},
   "source": [
    "#### Your answer is:"
   ]
  },
  {
   "cell_type": "markdown",
   "metadata": {},
   "source": [
    "### Exercise 2.2b: Multi-year seasonal variability"
   ]
  },
  {
   "cell_type": "code",
   "execution_count": null,
   "metadata": {},
   "outputs": [],
   "source": [
    "# Calculate the multi-year seasonal variability for all three stations. \n",
    "# Multi-year seasonal variability can be calculated as a mean of all e.g., Januaries in our time series,\n",
    "# or as a mean of all e.g., first weeks of the year.\n",
    "df_mean_seasonal = df_result.groupby( 2*((df_result.index.week-1)//2 + 1)).mean()"
   ]
  },
  {
   "cell_type": "markdown",
   "metadata": {},
   "source": [
    "As we said in the comment above, the multi-year seasonal variability can be calculated in two different ways. Here, we calculate it using a weekly calculation.  "
   ]
  },
  {
   "cell_type": "code",
   "execution_count": null,
   "metadata": {
    "scrolled": false
   },
   "outputs": [],
   "source": [
    "# Plot the result (multi-year seasonal variability) for all three stations \n",
    "# (Wekerom in orange, Vredepeel in blue and Zegveld in green). \n",
    "# Plot Time [weeks] on x-axis and Concentration [um/m^3] on y-axis.\n",
    "fig3 = df_mean_seasonal.iplot(asFigure=True, xTitle=\"Time [weeks]\", yTitle=\"Concentration [ug/m3]\", width=2)\n",
    "fig3.show()"
   ]
  },
  {
   "cell_type": "markdown",
   "metadata": {},
   "source": [
    "### Question 2.2b.1: What is the multi-year seasonal variability in NH$_3$ concentration? How do the multi-year seasonal variabilities change between the three given stations?  Can you explain the similaritires/differences in the results based on the locations of the stations?\n",
    "\n",
    "Note that the seasonal differences largely depend on manure spreading. Check the manure season at https://www.rvo.nl/onderwerpen/agrarisch-ondernemen/mestbeleid/gebruiken-en-uitrijden/wanneer-mest-uitrijden and compare to the NH$_3$ concentrations given in the figure above."
   ]
  },
  {
   "cell_type": "markdown",
   "metadata": {},
   "source": [
    "#### Your answer is: "
   ]
  },
  {
   "cell_type": "markdown",
   "metadata": {},
   "source": [
    "### Exercise 2.2c: Diurnal variability"
   ]
  },
  {
   "cell_type": "code",
   "execution_count": null,
   "metadata": {
    "scrolled": true
   },
   "outputs": [],
   "source": [
    "# Calculate the multi-year daily variability in NH3 concentration for June and December for all three stations.\n",
    "# Multi-year daily variability is calculated as a mean of all days in all \n",
    "# e.g., Junes and Decembers of all years in our time series.\n",
    "# First, we extract June and December from our time series.\n",
    "df_result_jun = df_result.loc[(df_result.index.month==6 )]\n",
    "df_result_dec = df_result.loc[(df_result.index.month==12)]\n",
    "\n",
    "# Next, we calculate the daily variability.\n",
    "df_mean_jun_daily = df_result_jun.groupby([df_result_jun.index.hour]).mean()\n",
    "df_mean_dec_daily = df_result_dec.groupby([df_result_dec.index.hour]).mean()\n",
    "\n",
    "# Finally, we set up the new data (i.e., the daily variabilities) in a new matrix.\n",
    "df_mean_jun_dec = pd.concat([df_mean_jun_daily, df_mean_dec_daily], axis=1, sort=False)\n",
    "df_mean_jun_dec.columns = ['NH3_W_J', 'NH3_V_J', 'NH3_Z_J', 'NH3_W_D', 'NH3_V_D', 'NH3_Z_D']"
   ]
  },
  {
   "cell_type": "code",
   "execution_count": null,
   "metadata": {},
   "outputs": [],
   "source": [
    "# Plot the result (multi-year daily variability for June and December) for all three stations \n",
    "# (Wekerom in orange, Vredepeel in blue and Zegveld in green). \n",
    "# Results for June are given with solid lines and results for December with dotted lines. \n",
    "# Plot Time [hours] on x-axis and Concentration [um/m^3] on y-axis. \n",
    "fig5 = df_mean_jun_dec.iplot(asFigure=True, xTitle=\"Time [hours]\", yTitle=\"Concentration [um/m3]\", \n",
    "    colors=['orange', 'blue', 'green', 'orange', 'blue', 'green'], \n",
    "    dash=['solid', 'solid', 'solid', 'dot', 'dot', 'dot'], width=2)\n",
    "fig5.show()"
   ]
  },
  {
   "cell_type": "markdown",
   "metadata": {},
   "source": [
    "### Question 2.2c.1: What is the multi-year daily variability in NH$_3$ concentration in summer (June) and winter (December)? How do you explain the daily variability in NH$_3$ concentrations in terms of meteorological processes, e.g., thinking of the boundary layer variability? Is the daily variability the same at all three stations? Can you explain the similarities and/or possible differences?"
   ]
  },
  {
   "cell_type": "markdown",
   "metadata": {},
   "source": [
    "#### Your answer is:"
   ]
  },
  {
   "cell_type": "markdown",
   "metadata": {},
   "source": [
    "## 3 Dry Deposition of NH$_3$ \n",
    "\n",
    "Ammonia is very soluble in water. Therefore, dry deposition of ammonia is most effective on wet surfaces. Deposition on dry leafs or soil is orders of magnitude slower, and thus it will be neglected in this course. Vegetation is obviously wet after precipitation and dew, but this happens relatively infrequently. A major location of ammonia deposition is in the stomates, since they are wet (the plants regulate the stomatal opening to prevent excessive water loss from the stomates).\n",
    "\n",
    "Here, we will describe the dry deposition rate $F_{NH_3}$ using a gradient-resistance model:\n",
    "\n",
    "\\begin{equation*}\n",
    "F_{NH_3} = \\frac{C_{NH_3,\\alpha}-C_{NH_3,0}}{r_t} .\n",
    "\\end{equation*}\n",
    "\n",
    "In this equation, $C_{NH_3}$ ($\\mu$g m$^{-3}$) is the atmospheric concentration of NH$_3$, while $r_t$ (s m$^{-1}$) is the total resistance. The subscripts $\\alpha$ and $0$ refer to the atmospheric reference level and the zero-level (where the NH$_3$ is absorbed). The atmospheric concentrations were already discussed in section 2.\n",
    "\n",
    "In this Ohm law-like expression, the total resistance $r_t$ is composed of the aerodynamic resistance $r_a$, the sub-laminar boundary layer resistance $r_b$ and the canopy resistance $r_c$ (Figure 2). In this form, the three resistances are in series:\n",
    "\n",
    "\\begin{equation*}\n",
    "r_t = r_a + r_b + r_c .\n",
    "\\end{equation*}\n",
    "\n",
    "Through the following section, we will explain and discuss how the resistances and the deposition rate are calculated.\n",
    "\n",
    "<br>\n",
    "<div align=center>\n",
    "<figure>\n",
    "  <img src=\"resistances.png\", width=\"500\" height=\"400\">\n",
    "  <figcaption> <i>Figure 2: Three different resistances and the level of their influence. </i></figcaption>\n",
    "</figure>\n",
    "</div>\n",
    "\n",
    "\n",
    "Note that the process of ammonia deposition is far more complicated than represented here. In practice, ammonia deposits on wet surfaces, from which the water may evaporate along with the ammonia. Plants may emit ammonia, rather than absorb it at high temperatures as explained in Introduction Atmosphere, 2020 (section 18.5). Vegetation is often not homogeneous, causing higher deposition rates at transitions from short to tall vegetation. Comparing model results with observed NH$_3$ deposition rates is an active field of research, where the level of agreement is an indication of how well the processes are understood. Actually, the ammonia budget of the Netherlands as we understand it, is not entirely closed. There is a gap between the observed and simulated concentrations which suggests that either the emissions are larger than we know it, or the deposition rates are lower. However, the process model you will develop through the following exercises may be considered a good first order description of the deposition process."
   ]
  },
  {
   "cell_type": "markdown",
   "metadata": {},
   "source": [
    "### 3.1 Aerodynamical resistance \n",
    "\n",
    "The aerodynamical resistance can be calculated as:\n",
    "\n",
    "\\begin{equation*}\n",
    "r_a = \\frac{\\left( \\ln \\frac{z-z_d}{z_0} \\right)^2}{k^2u},\n",
    "\\end{equation*}\n",
    "\n",
    "where $z$ (m) is the height of the reference level where the wind speed is measured, $z_d$ (m) is the zero-plane displacement height, $z_0$ (m) is the surface roughness length, k (-) is the von Karman constant and $u$ (m s$^{-1}$) is the wind speed. Note that this equation implicitly assumes neutral conditions. In stably stratified or unstable conditions, $r_a$ will be larger or smaller, respectively, than expressed through the presented equation. The error that arises due to our assumption is small for rough surfaces, like forests (where the surface roughness length is equal 1), but larger for smooth surfaces (where the surface roughness length is smaller than 1). There are methods to account for this, but it would make the approach a bit more complex, thus, we will work for now with the presented equation."
   ]
  },
  {
   "cell_type": "markdown",
   "metadata": {},
   "source": [
    "### Exercise 3.1: Analysis of the aerodynamical resistance\n",
    "\n",
    "In the following exercise, you will analyze the aerodynamical resistance. So, let us upload the necessary data, collected at the Veenkampen station, and calculate the aerodynamical resistance."
   ]
  },
  {
   "cell_type": "code",
   "execution_count": null,
   "metadata": {},
   "outputs": [],
   "source": [
    "# Load the meteorological data. \n",
    "# Load the velocity (u; m/s), global radiation (Rg; W/m^2), rain (Rain; mm), rain in the last three hours \n",
    "# (Rain_last3h; mm) and leaf area index (LAI; m^2/m^2).\n",
    "df_meteo1 = pd.read_csv('BasicSkills_meteo1.csv', sep=';', \n",
    "    index_col='date-time', usecols=['date-time', 'u', 'Rg', 'Rain', 'Rain_last3h', 'LAI'], parse_dates=['date-time'])\n",
    "df_meteo1.columns = ['u', 'Rg', 'Rain', 'Rain_last3h', 'LAI']\n",
    "# Calculate the aerodynamical resistance. \n",
    "# Set the constants needed for calculation of aerodynamical resistance; \n",
    "# the height of the reference level where the wind speed is measured (z; m), the zero-plane displacement height\n",
    "# (zd; m), the surface roughness length (z0; m) and the von Karman constant (k; -)\n",
    "z  = 10.\n",
    "zd = 0.\n",
    "z0 = 1.0\n",
    "k  = 0.4\n",
    "\n",
    "# Calculate the aerodynamical resistance based on the formula given in section 3.1.\n",
    "ra = (np.log((z-zd)/z0))**2/(k**2*df_meteo1['u'])\n",
    "\n",
    "# Finally, add up the calculated aerodynamical resistance into a matrix with the meteorological data.\n",
    "df_meteo1 = pd.concat([df_meteo1, ra], axis=1, sort=False)\n",
    "df_meteo1.columns = ['u', 'Rg', 'Rain', 'Rain_last3h', 'LAI', 'ra']"
   ]
  },
  {
   "cell_type": "code",
   "execution_count": null,
   "metadata": {
    "scrolled": false
   },
   "outputs": [],
   "source": [
    "# Plot the wind speed (u, top figure) and aerodynamical resistance (ra, bottom figure).\n",
    "# Plot Time [hours] on x-axis and wind speed [m/s], or Resistance [s/m] on y-axis. \n",
    "fig6 = df_meteo1[['u', 'ra']].iplot(asFigure=True, subplots=True, shape=(2,1), shared_xaxes=True,  \n",
    "    layout=dict(yaxis=dict(title='Wind speed [m/s]'), xaxis=dict(title=' ')))\n",
    "fig6['layout']['yaxis2'].update({'title':'Resistance [s/m]'})\n",
    "fig6['layout']['xaxis2'].update({'title':'Time [years]'})\n",
    "fig6.show()"
   ]
  },
  {
   "cell_type": "markdown",
   "metadata": {},
   "source": [
    "In the figures above, we show the time series of wind speed and resistance. But, we can also look at the dependence of the aerodynamical resistance on the wind speed. Thus, let's make this plot as well."
   ]
  },
  {
   "cell_type": "code",
   "execution_count": null,
   "metadata": {},
   "outputs": [],
   "source": [
    "# Plot the aerodynamical resistance (ra; s/m on x-axis ) as a function of the wind speed (u; m/s on y-axis).\n",
    "fig7 = px.scatter(x=df_meteo1['u'], y=df_meteo1['ra'])\n",
    "fig7.update_layout(xaxis_title=\"Wind speed [m/s]\", yaxis_title=\"Resistance [s/m]\")\n",
    "fig7.show()"
   ]
  },
  {
   "cell_type": "markdown",
   "metadata": {},
   "source": [
    "### Question 3.1.1: Why does the aerodynamical resistance change in time? Why does the resistance become small when the wind speed increases?"
   ]
  },
  {
   "cell_type": "markdown",
   "metadata": {},
   "source": [
    "#### Your answer is: "
   ]
  },
  {
   "cell_type": "markdown",
   "metadata": {},
   "source": [
    "### Question. 3.1.2: How would the aerodynamical resistance change if we would change the surface roughness length? Let's assume that we look at the resistance above the grass?\n",
    "\n",
    "To answer this question have a look at the variables in a cell where we calculated the aerodynamical resistance (i.e., second cell above the figure) and change the value of the surface roughness length to about 0.1 m (standard value is 1 m), and then run your cell again and make a new figures by pressing **Shift+Enter**. Note that in the boxes above we wrote, e.g., z0 = 1. and by putting this \"dot\" we made our number floating point number. This means that if you make z0 smaller than 1 the number is already defined as a floating point and that dot is no longer necessary. The dot is only necessary if we have integer numbers that we want to make floating point numbers. "
   ]
  },
  {
   "cell_type": "markdown",
   "metadata": {},
   "source": [
    "#### Your answer is: "
   ]
  },
  {
   "cell_type": "markdown",
   "metadata": {},
   "source": [
    "### 3.2 Canopy resistance\n",
    "\n",
    "Most vegetation types change the opening of their stomates to regulate how much CO$_2$ they take from the atmosphere and how much water vapor they lose. When the stomates are open, other species, such as NH$_3$ and O$_3$, can also be exchanged. When referring to the resistance at the leaf level, we use the term stomatal resistance. For tall vegetation structures, the stomatal resistance varies between the top and lower vegetation levels. Thus, when referring to the resistance at the vegetation level we use the term canopy resistance $r_c$ (s m$^{-1}$). The canopy resistance accounts for those differences (i.e., the differences between the top and lower vegetation levels).\n",
    "\n",
    "There are two main approaches to model the canopy resistance. The first is the Jarvis approach. [Paul Jarvis](https://en.wikipedia.org/wiki/Paul_Gordon_Jarvis) (1935-2013) studied how canopy resistance responds to atmospheric conditions (e.g., vapor pressure deficit, radiation and temperature) and soil conditions (e.g., soil moisture and nutrient availability). He came up with a model formulation which assumes that each vegetation type has an intrinsic minimum resistance when the stomates are fully opened in optimal conditions. This minimum resistance is increased when the vegetation experiences stress, e.g., when the air is dry and the vegetation needs to reduce water loss. [Jarvis (1976)’s](https://royalsocietypublishing.org/doi/10.1098/rstb.1976.0035) formulation assumes that the vegetation response to each stress factor can be described by an independent multiplicative term. This makes the Jarvis approach simple to use and it also facilitates comparison between vegetation types.\n",
    "\n",
    "The second is the A-g$_s$ approach, where A stands for CO$_2$ assimilation and $g_s$ for canopy conductance, i.e., the inverse of canopy resistance (see e.g., [Jacobs and de Bruin, 1997](https://journals.ametsoc.org/doi/full/10.1175/1520-0450%281997%29036%3C1663%3APRTAEA%3E2.0.CO%3B2), [Ronda et al., 2001](https://journals.ametsoc.org/doi/full/10.1175/1520-0450%282001%29040%3C1431%3AROTCCI%3E2.0.CO%3B2)). This approach is based on newer scientific evidence that vegetation optimizes the stomatal resistance for the specific carbon uptake for minimal water loss. Some vegetation types respond rather different to environmental stress factors than others. For example, some species use water rather aggressively to grow faster, but at the risk of running out of water. Other species use water rather conservatively to prevent running out of water, but at the cost of growing slower (e.g., [van der Molen et al., 2010](https://www.sciencedirect.com/science/article/pii/S0168192311000517?via%3Dihub)). Taking into account the water cost of carbon uptake requires continuous integration between water availability, water loss and carbon uptake capacity of the vegetation. \n",
    "\n",
    "The Jarvis approach describes the canopy resistance as a minimum canopy resistance $r_{c,min}$ (s m$^{-1}$), which applies to optimal conditions. In stressed conditions, the actual canopy resistance $r_c$ (s m$^{-1}$) is larger than the minimum, depending on the stress terms $F_1$, $F_2$, ..., $F_n$:\n",
    "\n",
    "\\begin{equation*}\n",
    "r_c = \\frac{r_{c,min}}{LAI F_1F_2...F_n}.\n",
    "\\end{equation*}\n",
    "\n",
    "The $LAI$ (m$^2$ m$^{-2}$) in the denominator is leaf-area index which implies that at each vegetation level $i$ with $LAI_i+1$, $r_c$ decreases linearly, which is arguably a simplistic approach, because lower levels may be shaded and cooler than higher layers. The stress functions $F_1$, ..., $F_n$ quantify the level of stress due to environmental processes. The stress functions are given as:\n",
    "\n",
    "\\begin{equation*}\n",
    "F_1 = \\frac{\\frac{r_{c,min}}{r_{c,max}}+f}{1+f}, \\\\\n",
    "F_2 = \\frac{1}{1+h_s[q_s(T_a)-q_a]}, \\\\\n",
    "F_3 = 1-0.0016(T_{ref}-T_a)^2, \\\\\n",
    "F_4 = \\sum_{i=1}^{n_{root}}\\frac{(\\theta_i-\\theta_{wilt})d_i}{(\\theta_{ref}-\\theta_{wilt})d_{tot}}.\n",
    "\\end{equation*}\n",
    "\n",
    "Here $r_{c,min}$ and $r_{c,max}$ (s m$^{-1}$) are minimum and maximum canopy resistances, respectively. In the equation for $F_1$, $f=0.55\\frac{R_g}{R_{gl}}\\frac{2}{LAI}$, where $R_g$ (W m$^{-2}$) is global radiation, $R_{gl}$ (W m$^{-2}$) is the minimum solar radiation necessary for photosynthesis (transpiration) to occur. In the equation for $F_2$, $h_s$ (-) is a parameter associated with the water vapour deficit, $T_a$ (K) is air temperature at reference level, $q_s$ and $q_a$ (g kg$^{-1}$ or kg kg$^{-1}$) are saturation and actual water vapor mixing ratios. They can be calculated as:\n",
    "\n",
    "\\begin{equation*}\n",
    "q_s = \\frac{R_d}{R_v}\\frac{0.6107\\cdot10^{\\frac{7.5T_a}{237.3+T_a}}}{p}, \\\\\n",
    "q_a = RH\\cdot q_s,\n",
    "\\end{equation*}\n",
    "\n",
    "where $R_d = 287$ J kg$^{-1}$ K$^{-1}$ and $R_v = 462$ J kg$^{-1}$ K$^{-1}$ are the gass constants for dry air and water vapour, respectively, $p \\approx 1.1$ kPa is the air pressure at the sea level, and $RH$ (-) is the relative humidity. These parameters should be chosen in such a way that $F_2$ is a number between 1 and ~10. In the equation for $F_3$, $T_{ref}$ (K) is the optimal air temperature for photosynthesis, while $T_a$ (K) is the air temperature. Finally, in the equation for $F_4$, $\\theta$ (m$^3$ m$^{-3}$) is volumetric water content, while and $d_i$ and $d_{tot}$ (m) are the depth of soil layer i and the total root depth. This formulation and a more detailed description can be found in [Kumar et al. (2001)](https://link.springer.com/article/10.1007%2Fs10546-010-9559-z). Now, let's use this approach to simulate the canopy resistance $r_c$."
   ]
  },
  {
   "cell_type": "markdown",
   "metadata": {},
   "source": [
    "### Exercis 3.2: Canopy resistance analysis\n",
    "\n",
    "In this exercise, you will calculate and analyse the cannopy resistance based on your chosen parameters and the formula we prepared for you in the cell-box below. As we saw before, cannopy resistance depends on minimum canopy resistance ($r_{c,min}$), leaf area index ($LAI$) and the stress factors ($F_1,...,F_4$). In practice, $F_1$ is the stress factor for solar radiation which describes a large part of the diurnal variability in the canopy resistance $r_c$. To start simply and straightforward, we can (for now) assume that $F_2 = F_3 = F_4 = 1$, implying that the vegetation does not experience stress because of dry air, high or low temperatures and dry soil. You will be able to \"play\" with the influence of other stress functions later in theis practical.\n",
    "\n",
    "Now, look up the parameters $r_{c,min}$ and $R_{gl}$ for the land surface type of your interest in Kumar et al. (2001, Table 1) and enter them in the box below. Note that it is better to simulate a vegetated land surface type at this stage, because reverting to water bodies is much easier than extending from water bodies to vegetated land surfaces. The value of $r_{c,max}$ represents the canopy resistance when the stomates are closed. Exchange between the atmosphere and the vegetation is much slower then, because gasses must diffuse through the epidernis (i.e., leaf skin). The exact value of $r_{c,max}$ is not very sensitive, as long as it is large, therefore a value of 1000-10,000 s m$^{-1}$ will suffice. Also, enter the value for LAI for the land surface of your choice."
   ]
  },
  {
   "cell_type": "code",
   "execution_count": null,
   "metadata": {},
   "outputs": [],
   "source": [
    "# Write the values of your chosen parameters using the land types given in Table 1 of Kumar et al, 2001.\n",
    "# Numbers should represent the values for the minimum canopy resistance (rcmin; s/m), minimum global radiation for\n",
    "# photosynthesis (Rgl; W/m^2), the leaf area index (LAI, m^2/m^2), and maximum canopy resistance (rcmax; s/m). \n",
    "rcmin = 125. \n",
    "Rgl   = 30.\n",
    "LAI   = 6.4\n",
    "rcmax = 1000.\n",
    "\n",
    "# Calculate f and the stress function for solar radiation F1.\n",
    "f     = 0.55*(df_meteo1['Rg']/Rgl)*(2./LAI)\n",
    "F1    = ((rcmin/rcmax)+f)/(1+f)\n",
    "\n",
    "# Calculate the canopy resistance in s/m based on the formula given in the markdown-box above.\n",
    "rc    = rcmin/(LAI*F1)\n",
    "\n",
    "# Add the calculated canopy resistance into a matrix with the meteorological data.\n",
    "df_meteo1 = pd.concat([df_meteo1, rc], axis=1, sort=False)\n",
    "df_meteo1.columns = ['u', 'Rg', 'Rain', 'Rain_last3h', 'LAI', 'ra', 'rc']"
   ]
  },
  {
   "cell_type": "markdown",
   "metadata": {},
   "source": [
    "Now that we calculated the canopy resistance, let's plot our result. Note that the mininum canopy resistance is in fact scaled with the LAI (min(rc) = rcmin/LAI). Thus, if you choose rcmin = 125 s/m and LAI = 6.4, your minimum canopy resistance will not be 125 s/m but in fact ~ 20 s/m."
   ]
  },
  {
   "cell_type": "code",
   "execution_count": null,
   "metadata": {
    "scrolled": false
   },
   "outputs": [],
   "source": [
    "# Plot the canopy resistance.\n",
    "# Plot Time [years] on x-axis and Resistance [s/m] on y-axis.\n",
    "fig8 = rc.iplot(asFigure=True, xTitle='Time [years]', yTitle='Resistance [s/m]', width=2)\n",
    "fig8['layout']['yaxis'].update({'range': [20, 45]}) \n",
    "fig8.show()"
   ]
  },
  {
   "cell_type": "markdown",
   "metadata": {},
   "source": [
    "### Question 3.2: What can you conclude from the graph about the canopy resistance? Does the value of the canopy resistance fall between the maximum and minimum canopy resistance? Can you make a sketch (or discuss) how the canopy resistance would look as a function of the global radiation $R_g$?"
   ]
  },
  {
   "cell_type": "markdown",
   "metadata": {},
   "source": [
    "#### Your answer is:"
   ]
  },
  {
   "cell_type": "markdown",
   "metadata": {},
   "source": [
    "### Exercise 3.3: Sub-laminar boundary layer resistance\n",
    "\n",
    "A thin layer (a few millimeters) of laminar air forms close to the leaf surface. Transport in laminar flows\n",
    "is an order of ~100 slower than turbulent transport. This adds a small but rather constant sub-laminar boundary layer resistance $r_b$ (s m$^{-1}$) against exchange between atmosphere and vegetation. The value of $r_b$ depends on the size, shape and roughness of the leaf surface. Some leafs have a hairy surface which increases the resistance. In practice, the exact value of $r_b$ is usually small relative to the aerodynamic and canopy resistances, except when the atmosphere is very turbulent and the stomates are fully open. In those situations $r_b$ makes up small but significant fraction of the total resistance. A typical value is $r_b = 5$ s m$^{-1}$."
   ]
  },
  {
   "cell_type": "markdown",
   "metadata": {},
   "source": [
    "### Question 3.3.1: What are the typical values of $r_a$ and $r_c$ in winter months and how do they compare to $r_b$? \n",
    "\n",
    "Use figures above to answer your questions."
   ]
  },
  {
   "cell_type": "markdown",
   "metadata": {},
   "source": [
    "#### Your answer is:"
   ]
  },
  {
   "cell_type": "markdown",
   "metadata": {},
   "source": [
    "### Question 3.3.2: What can you conclude about the relative magnitude and variability of the aerodynamical, boundary layer and canopy resistances? Describe the relative magnitude and variability of the resistances to understand which one needs to be modelled most precisely."
   ]
  },
  {
   "cell_type": "markdown",
   "metadata": {},
   "source": [
    "#### Your answer is:"
   ]
  },
  {
   "cell_type": "markdown",
   "metadata": {},
   "source": [
    "### Exercise 3.4: Total resistance and dry deposition rate\n",
    "\n",
    "In this exercise, we will calculate the total resistance and finalize the calculation of the dry deposition rate for the three stations i.e., Wekerom, Vredepeel and Zegveld. Therefore, in the cell-box below, we will first calculate the total resistance $r_t$ and then the deposition rate $F_{NH_3}$ based on the formulas mentioned in this subsection 3. The NH$_3$ concentration at the zero level $C_{NH_3,0}$ may be assumed to be 0 $μg m^{-3}$, because deposition in the water film on the interior of the stomates is so efficient that it removes all NH$_3$ from the air in its immediate surrounding."
   ]
  },
  {
   "cell_type": "code",
   "execution_count": null,
   "metadata": {},
   "outputs": [],
   "source": [
    "# Calculate the total resistance as a sum of the aerodynamic (ra; s/m), boundary layer (rb, s/m) \n",
    "# and canopy resistance (rc; s/m).\n",
    "rb = 5.\n",
    "rt = ra + rb + rc\n",
    "\n",
    "# add up the calculated total resistance into a matrix with the other meteorological data we already introduced.\n",
    "rt.columns = ['date-time', 'rt']\n",
    "\n",
    "# Add the calculated total resistance into a matrix with the meteorological data.\n",
    "df_meteo1 = pd.concat([df_meteo1, rt], axis=1, sort=False)\n",
    "df_meteo1.columns = ['u', 'Rg', 'Rain', 'Rain_last3h', 'LAI', 'ra', 'rc', 'rt']"
   ]
  },
  {
   "cell_type": "code",
   "execution_count": null,
   "metadata": {},
   "outputs": [],
   "source": [
    "# Calculate the dry deposition rate (F_NH3; ug/m^2/s) using a gradient-resistance model for all three stations,\n",
    "# i.e., for Wekerom, Vredepeel and Zegveld.\n",
    "F_NH3_W = df_Wekerom['NH3_W']/rt\n",
    "F_NH3_W.columns = ['F_NH3_W']\n",
    "\n",
    "F_NH3_V = df_result['NH3_V']/rt\n",
    "F_NH3_V.columns = ['F_NH3_V']\n",
    "\n",
    "F_NH3_Z = df_result['NH3_Z']/rt\n",
    "F_NH3_Z.columns = ['F_NH3_Z']\n",
    "\n",
    "# Add the calculated total resistance into a matrix with the meteorological data.\n",
    "df_meteo1 = pd.concat([df_meteo1, F_NH3_W, F_NH3_V, F_NH3_Z], axis=1, sort=False)\n",
    "df_meteo1.columns = ['u', 'Rg', 'Rain', 'Rain_last3h', 'LAI', 'ra', 'rc', 'rt', 'F_NH3_W', 'F_NH3_V', 'F_NH3_Z']"
   ]
  },
  {
   "cell_type": "code",
   "execution_count": null,
   "metadata": {},
   "outputs": [],
   "source": [
    "# Plot the deposition rate for the three stations\n",
    "# (Wekerom in orange, Vredepeel in blue and Zegveld in green). \n",
    "# Plot Time [years] on x-axis and Deposition rate [um/m^2/s] on y-axis. \n",
    "fig9 = df_meteo1[['F_NH3_W', 'F_NH3_V', 'F_NH3_Z']].iplot(asFigure=True, subplots=True, shape=(3,1), \n",
    "    shared_xaxes=True, fill=True, layout=dict(yaxis=dict(title=' '), xaxis=dict(title=' ')))\n",
    "fig9['layout']['yaxis2'].update({'title':'Deposition rate [um/m2/s]'})\n",
    "fig9['layout']['xaxis2'].update({'title':' '})    \n",
    "fig9['layout']['xaxis3'].update({'title':'Time [years]'})   \n",
    "fig9['layout']['yaxis1'].update({'range': [0, 8]}) \n",
    "fig9['layout']['yaxis2'].update({'range': [0, 8]}) \n",
    "fig9['layout']['yaxis3'].update({'range': [0, 8]}) \n",
    "fig9.show()"
   ]
  },
  {
   "cell_type": "markdown",
   "metadata": {},
   "source": [
    "### Question 3.4.1: How does the NH$_3$ deposition rate vary at hourly and seasonal time scale?\n",
    "\n",
    "Note that you can use your mouse to zoom-in on the figure parts that you need."
   ]
  },
  {
   "cell_type": "markdown",
   "metadata": {},
   "source": [
    "#### Your answer is:"
   ]
  },
  {
   "cell_type": "markdown",
   "metadata": {},
   "source": [
    "You can give a broad answer to the latter question by looking at the graph and drawing your conclusions form there. But it would be easier to look at the multi-year seasonal and daily variabilities. Thus, we will make calculations and plots of (i) multi-year seasonal variability and (ii) multi-year daily variability for june and december. We again look at all three stations. "
   ]
  },
  {
   "cell_type": "code",
   "execution_count": null,
   "metadata": {},
   "outputs": [],
   "source": [
    "# Calculate the multi-year seasonal variability for all three stations. \n",
    "# Multi-year seasonal variability is again calculated as in exercise 2.2b as a mean of all \n",
    "# e.g., first weeks of the year.\n",
    "df_meteo1_mean_seasonal = df_meteo1[['F_NH3_W', 'F_NH3_V', 'F_NH3_Z']].groupby( 2*((df_result.index.week-1)//2 + 1)).mean()\n",
    "\n",
    "# Plot the result (multi-year seasonal variability) for the three stations \n",
    "# (Wekerom in orange, Vredepeel in blue and Zegveld in green). \n",
    "# Plot Time [weeks] on x-axis and Deposition rate [um/m^2/s] on y-axis.\n",
    "fig10 = df_meteo1_mean_seasonal.iplot(asFigure=True, xTitle=\"Time [weeks]\", yTitle=\"Deposition rate [um/m2/s]\", width=2)\n",
    "fig10.show()"
   ]
  },
  {
   "cell_type": "markdown",
   "metadata": {},
   "source": [
    "### Question 3.4.2: How does the NH$_3$ deposition rate vary on a seasonal time scale? Can you see a connection between the deposition rate variability and NH$_3$ concentration variability?"
   ]
  },
  {
   "cell_type": "markdown",
   "metadata": {},
   "source": [
    "#### Your answer is:"
   ]
  },
  {
   "cell_type": "markdown",
   "metadata": {},
   "source": [
    "Next, let's calculate the multi-year daily variability."
   ]
  },
  {
   "cell_type": "code",
   "execution_count": null,
   "metadata": {},
   "outputs": [],
   "source": [
    "# Calculate the multi-year daily variability in NH3 deposition rate for June and December for all three stations.  \n",
    "# First, we extract June and December from the deposition rate time series.\n",
    "df_meteo1_jun = df_meteo1[['F_NH3_W', 'F_NH3_V', 'F_NH3_Z']].loc[(df_meteo1.index.month==6 )]\n",
    "df_meteo1_dec = df_meteo1[['F_NH3_W', 'F_NH3_V', 'F_NH3_Z']].loc[(df_meteo1.index.month==12)]\n",
    "\n",
    "# Next we calculate the daily variability in the deposition rate.\n",
    "df_meteo1_mean_jun_daily = df_meteo1_jun.groupby([df_meteo1_jun.index.hour]).mean()\n",
    "df_meteo1_mean_dec_daily = df_meteo1_dec.groupby([df_meteo1_dec.index.hour]).mean()\n",
    "\n",
    "# Finally, we set up the new data (i.e., the daily variabilities) in a new matrix.\n",
    "df_meteo1_mean_jun_dec = pd.concat([df_meteo1_mean_jun_daily, df_meteo1_mean_dec_daily], axis=1, sort=False)\n",
    "df_meteo1_mean_jun_dec.columns = ['F_NH3_W_J', 'F_NH3_V_J', 'F_NH3_Z_J', 'F_NH3_W_D', 'F_NH3_V_D', 'F_NH3_Z_D']"
   ]
  },
  {
   "cell_type": "code",
   "execution_count": null,
   "metadata": {
    "scrolled": false
   },
   "outputs": [],
   "source": [
    "# Plot the result (multi-year daily variability for June and December) for all three stations \n",
    "# (Wekerom in orange, Vredepeel in blue and Zegveld in green). \n",
    "# Results for June are given with solid lines and results for December with dotted lines. \n",
    "# Plot Time [hours] on x-axis and Dry deposition rate [um/m^2/s] on y-axis. \n",
    "fig11 = df_meteo1_mean_jun_dec.iplot(asFigure=True, xTitle=\"Time [hours]\", yTitle=\"Deposition rate [um/m^2/s]\", \n",
    "    colors=['orange', 'blue', 'green', 'orange', 'blue', 'green'], \n",
    "    dash=['solid', 'solid', 'solid', 'dot', 'dot', 'dot'], width=2)\n",
    "fig11.show()"
   ]
  },
  {
   "cell_type": "markdown",
   "metadata": {},
   "source": [
    "### Question 3.4.3: How does the NH$_3$ deposition rate change daily? Can you see a connection between the daily deposition rate variability and daily NH$_3$ concentration variability that you analysed earlier? What do you think is the most important cause for variability in the deposition rate? Is it the variability in NH$_3$ concentration or is the variability in the total resistance?"
   ]
  },
  {
   "cell_type": "markdown",
   "metadata": {},
   "source": [
    "#### Your answer is: "
   ]
  },
  {
   "cell_type": "markdown",
   "metadata": {},
   "source": [
    "### Question 3.4.4: How much NH$_3$ is deposited on the surface per year? Does it change a lot between years? How much does this change between the stations?\n",
    "\n",
    "Do you think you could try to do the calculation yourselves using python? Let us give you few hints. Look at the cell-box below question 4.3.2. We wrote something like:\n",
    "\n",
    ">output_variable = df_meteo1[['selected_variables']].groupby([df_meteo1[['selected_variables']].index.hour]).mean()\n",
    "\n",
    "Now for you to make some changes to the cell below (this one gives an error when executed).\n",
    "1. Replace selected variable by the fluxes you want to use: 'F_NH3_W', 'F_NH3_V', 'F_NH3_Z'\n",
    "1. Here, instead of *.hour* we need to make a calculation over a year. \n",
    "2. Express your result in kg m$^{-2}$ yr$^{-1}$. The *mean()* caculates the mean hourly deposition in ug m$^{-2}$s$^{-1}$. This needs to be converted to *kg* and *yr*. We provide two variables in the cell below that you need to calculate and fill in."
   ]
  },
  {
   "cell_type": "code",
   "execution_count": null,
   "metadata": {},
   "outputs": [],
   "source": [
    "output_variable = df_meteo1[['selected variables']].groupby([df_meteo1[['selected variables']].index.hour]).mean()\n",
    "# the following command prints the cacuated result (but make sure your unit is correct!)\n",
    "# so fi in the variables below:\n",
    "from_ug_to_kg = ....   # 1 kg is 10^9 ug\n",
    "from_year_to_s = .....   # 1 year is this many seconds (excluding eap years)\n",
    "output_variable_new1 = output_variable*from_ug_to_kg*from_year_to_s\n",
    "# this statement simply prints:\n",
    "print('deposition units should be in kg/(m2s)')\n",
    "output_variable_new1"
   ]
  },
  {
   "cell_type": "markdown",
   "metadata": {},
   "source": [
    "#### Your answer is:"
   ]
  },
  {
   "cell_type": "markdown",
   "metadata": {},
   "source": [
    "### Question 3.4.5: Look at your stations and compare the results obtained in the previous question with the Figure 1. Are the results for separate stations comparable with the numbers presented on Figure 1?\n",
    "\n",
    "Here, we again give you a hint. Units in Figure 1 are mol NH$_3$ ha$^{-1}$. Note that 1 mol NH$_3$ is 0.017 kg NH$_3$, and 1 ha = 10000 m$^2$. "
   ]
  },
  {
   "cell_type": "code",
   "execution_count": null,
   "metadata": {},
   "outputs": [],
   "source": [
    "from_kg_to_mol = ...   # 1 mol NH3 is 0.017 kg NH3\n",
    "from_ha_to_m2  = ...    # 1 ha = 10000 m2\n",
    "output_variable_new2 = output_variable_new1*from_kg_to_mol*from_ha_to_m2\n",
    "print('deposition units should be in mol/(ha.yr)')\n",
    "output_variable_new2\n"
   ]
  },
  {
   "cell_type": "markdown",
   "metadata": {},
   "source": [
    "#### Your answer is:"
   ]
  },
  {
   "cell_type": "markdown",
   "metadata": {},
   "source": [
    "You reached the end of this first part of your practical entitled Basic Skills. Here at the end, let's save our data (meteorological data that we initially loaded and resistances and deposition rate that we here calculated) into a new csv file. You can always change the name of this file, but note that in the next notebook you need to load it under the same name that you save it under."
   ]
  },
  {
   "cell_type": "code",
   "execution_count": null,
   "metadata": {},
   "outputs": [],
   "source": [
    "df_meteo1.to_csv('BasicSkills_meteo.csv', sep=';')"
   ]
  },
  {
   "cell_type": "markdown",
   "metadata": {},
   "source": []
  }
 ],
 "metadata": {
  "kernelspec": {
   "display_name": "Python 3",
   "language": "python",
   "name": "python3"
  },
  "language_info": {
   "codemirror_mode": {
    "name": "ipython",
    "version": 3
   },
   "file_extension": ".py",
   "mimetype": "text/x-python",
   "name": "python",
   "nbconvert_exporter": "python",
   "pygments_lexer": "ipython3",
   "version": "3.7.3"
  },
  "toc": {
   "colors": {
    "hover_highlight": "#DAA520",
    "navigate_num": "#000000",
    "navigate_text": "#333333",
    "running_highlight": "#FF0000",
    "selected_highlight": "#FFD700",
    "sidebar_border": "#EEEEEE",
    "wrapper_background": "#FFFFFF"
   },
   "moveMenuLeft": true,
   "nav_menu": {
    "height": "135px",
    "width": "252px"
   },
   "navigate_menu": true,
   "number_sections": true,
   "sideBar": true,
   "threshold": 4,
   "toc_cell": false,
   "toc_section_display": "block",
   "toc_window_display": false,
   "widenNotebook": false
  },
  "varInspector": {
   "cols": {
    "lenName": 16,
    "lenType": 16,
    "lenVar": 40
   },
   "kernels_config": {
    "python": {
     "delete_cmd_postfix": "",
     "delete_cmd_prefix": "del ",
     "library": "var_list.py",
     "varRefreshCmd": "print(var_dic_list())"
    },
    "r": {
     "delete_cmd_postfix": ") ",
     "delete_cmd_prefix": "rm(",
     "library": "var_list.r",
     "varRefreshCmd": "cat(var_dic_list()) "
    }
   },
   "types_to_exclude": [
    "module",
    "function",
    "builtin_function_or_method",
    "instance",
    "_Feature"
   ],
   "window_display": false
  }
 },
 "nbformat": 4,
 "nbformat_minor": 2
}
